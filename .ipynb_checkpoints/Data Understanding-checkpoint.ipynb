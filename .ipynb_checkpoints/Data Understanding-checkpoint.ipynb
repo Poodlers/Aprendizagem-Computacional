{
 "cells": [
  {
   "cell_type": "markdown",
   "id": "f6fcd3fe",
   "metadata": {},
   "source": [
    "# Data Understanding"
   ]
  },
  {
   "cell_type": "markdown",
   "id": "7665ea88",
   "metadata": {},
   "source": [
    "## Age at loan destribution\n",
    "\n",
    "To make the destribution of ages at the time of loan first we needed to get the necessary data from the sqlite database into python.\n",
    "\n",
    "For that we joined the loan, disposition and client Tables selecting the loan date and birth_date and made sure we were only selecting clients who were account OWNERS since only they can take loans."
   ]
  },
  {
   "cell_type": "code",
   "execution_count": 156,
   "id": "0f3180bf",
   "metadata": {},
   "outputs": [
    {
     "name": "stdout",
     "output_type": "stream",
     "text": [
      "         date birth_number   type\n",
      "0  1994-01-05   1945-02-04  OWNER\n",
      "1  1996-04-29   1939-04-23  OWNER\n",
      "2  1996-05-02   1944-06-13  OWNER\n",
      "3  1996-11-06   1945-07-03  OWNER\n",
      "4  1994-05-31   1939-11-30  OWNER\n",
      "\n",
      "              date birth_number   type\n",
      "count          328          328    328\n",
      "unique         283          318      1\n",
      "top     1995-12-12   1945-02-04  OWNER\n",
      "freq             3            2    328\n"
     ]
    }
   ],
   "source": [
    "import pandas as pd\n",
    "from datetime import datetime\n",
    "import numpy as np\n",
    "import sqlite3\n",
    "import matplotlib.pyplot as plt\n",
    "from statistics import mean \n",
    "import matplotlib.ticker as mtick\n",
    "\n",
    "conn = sqlite3.connect('./bank_database.db')\n",
    "\n",
    "loan_dev_df = pd.read_sql('''SELECT loan_dev.date, birth_number, disp.type FROM account\n",
    "    JOIN loan_dev ON loan_dev.account_id = account.account_id\n",
    "    LEFT JOIN disp ON disp.account_id = account.account_id\n",
    "    LEFT JOIN client ON client.client_id = disp.client_id\n",
    "    LEFT JOIN district ON district.code = client.district_id\n",
    "    WHERE disp.type = \"OWNER\"\n",
    "''', conn)\n",
    "\n",
    "loan_dev_df = loan_dev_df.loc[:, ~loan_dev_df.columns.duplicated()]\n",
    "print(loan_dev_df.head())\n",
    "print()\n",
    "print(loan_dev_df.describe())\n"
   ]
  },
  {
   "cell_type": "code",
   "execution_count": 121,
   "id": "f8210d21",
   "metadata": {},
   "outputs": [
    {
     "name": "stdout",
     "output_type": "stream",
     "text": [
      "number of loans: 328\n",
      "youngest: 13\n",
      "oldest: 60\n",
      "average: 35.75609756097561\n",
      "number of people younger then 18: 22. Making up 6.71% of loans\n",
      "age that asks for the most loans: 46 with 13 loans. Making up 3.96% of loans\n"
     ]
    },
    {
     "data": {
      "image/png": "[encoded data removed]",
      "text/plain": [
       "<Figure size 432x288 with 1 Axes>"
      ]
     },
     "metadata": {
      "needs_background": "light"
     },
     "output_type": "display_data"
    },
    {
     "name": "stdout",
     "output_type": "stream",
     "text": [
      "       age_at_loan\n",
      "count   328.000000\n",
      "mean     35.756098\n",
      "std      12.533318\n",
      "min      13.000000\n",
      "25%      25.000000\n",
      "50%      35.000000\n",
      "75%      46.000000\n",
      "max      60.000000\n"
     ]
    }
   ],
   "source": [
    "def get_age_at_loan(loan_dev_df):\n",
    "    age_at_loan = []\n",
    "    for i in range(loan_dev_df['birth_number'].size):\n",
    "        try:\n",
    "            loan_dev_df['date'][i]\n",
    "        except:\n",
    "            age_at_loan.append(np.NaN)\n",
    "            continue\n",
    "\n",
    "        age_at_loan.append(int((datetime.strptime(loan_dev_df['date'][i], '%Y-%m-%d').date(\n",
    "        ) - datetime.strptime(loan_dev_df['birth_number'][i], '%Y-%m-%d').date()).days / 365.25))\n",
    "    return age_at_loan\n",
    "    \n",
    "age_at_loan = get_age_at_loan(loan_dev_df)\n",
    "\n",
    "print(\"number of loans: \" + str(len(age_at_loan)))\n",
    "print(\"youngest: \" + str(min(age_at_loan)))\n",
    "print(\"oldest: \" + str(max(age_at_loan)))\n",
    "print(\"average: \" + str(mean(age_at_loan)))\n",
    "counter = 0\n",
    "for i in age_at_loan:\n",
    "    if i < 18:\n",
    "        counter += 1\n",
    "print(\"number of people younger then 18: \" + str(counter) + \". Making up \" + str(round(counter/len(age_at_loan)*100,2)) + \"% of loans\")\n",
    "counter = 0\n",
    "num  = age_at_loan[0]\n",
    "for i in age_at_loan:\n",
    "        curr_frequency = age_at_loan.count(i)\n",
    "        if(curr_frequency> counter):\n",
    "            counter = curr_frequency\n",
    "            num = i\n",
    "print(\"age that asks for the most loans: \" + str(num) + \" with \" + str(counter) + \" loans. Making up \" + str(round(counter/len(age_at_loan)*100,2)) + \"% of loans\")\n",
    "\n",
    "plt.hist(age_at_loan, bins=50)\n",
    "plt.gca().set(title='Frequency Histogram', ylabel='Number of Loans')\n",
    "plt.show()\n",
    "df = pd.DataFrame(age_at_loan, columns = [\"age_at_loan\"])\n",
    "print(df.describe())"
   ]
  },
  {
   "cell_type": "markdown",
   "id": "8e8b67e0",
   "metadata": {},
   "source": [
    "Making this destribution let us come to a couple conclusions: \n",
    "- The youngest age at which someone has made a loan is 13 which should be impossible since the minimum age to make a loan is 18, after looking further we came to the conclusion that there are in fact 22 entries (almost 7%) of loans which were made by people younger than 18 which might need to be dealt with seperatly\n",
    "- The oldest age was made by someone who was 60 years old\n",
    "- The average age for making a loan is between 35 and 36\n",
    "- Most loans were made by people who were 46 years old making up almost 4% of loans"
   ]
  },
  {
   "cell_type": "markdown",
   "id": "1494f59a",
   "metadata": {},
   "source": [
    "## Loan ammount"
   ]
  },
  {
   "cell_type": "code",
   "execution_count": 91,
   "id": "0aee394e",
   "metadata": {},
   "outputs": [
    {
     "name": "stdout",
     "output_type": "stream",
     "text": [
      "   amount\n",
      "0   96396\n",
      "1  165960\n",
      "2  127080\n",
      "3  105804\n",
      "4  274740\n"
     ]
    },
    {
     "data": {
      "image/png": "[encoded data removed]",
      "text/plain": [
       "<Figure size 432x288 with 1 Axes>"
      ]
     },
     "metadata": {
      "needs_background": "light"
     },
     "output_type": "display_data"
    },
    {
     "name": "stdout",
     "output_type": "stream",
     "text": [
      "              amount\n",
      "count     328.000000\n",
      "mean   145308.621951\n",
      "std    105247.318098\n",
      "min      4980.000000\n",
      "25%     68328.000000\n",
      "50%    114804.000000\n",
      "75%    198600.000000\n",
      "max    538500.000000\n"
     ]
    }
   ],
   "source": [
    "loan_dev_df = pd.read_sql('''SELECT amount FROM loan_dev ''', conn)\n",
    "\n",
    "loan_dev_df = loan_dev_df.loc[:, ~loan_dev_df.columns.duplicated()]\n",
    "\n",
    "print(loan_dev_df.head())\n",
    "\n",
    "plt.hist(loan_dev_df[\"amount\"], bins=50)\n",
    "plt.gca().set(title='Frequency Histogram', ylabel='Loan ammounts')\n",
    "plt.show()\n",
    "\n",
    "print(loan_dev_df.describe())"
   ]
  },
  {
   "cell_type": "markdown",
   "id": "de05578e",
   "metadata": {},
   "source": [
    "## Duration"
   ]
  },
  {
   "cell_type": "code",
   "execution_count": 94,
   "id": "8841e25c",
   "metadata": {},
   "outputs": [
    {
     "name": "stdout",
     "output_type": "stream",
     "text": [
      "   duration\n",
      "0        12\n",
      "1        36\n",
      "2        60\n",
      "3        36\n",
      "4        60\n"
     ]
    },
    {
     "data": {
      "image/png": "[encoded data removed]",
      "text/plain": [
       "<Figure size 432x288 with 1 Axes>"
      ]
     },
     "metadata": {
      "needs_background": "light"
     },
     "output_type": "display_data"
    },
    {
     "name": "stdout",
     "output_type": "stream",
     "text": [
      "         duration\n",
      "count  328.000000\n",
      "mean    35.853659\n",
      "std     16.734752\n",
      "min     12.000000\n",
      "25%     24.000000\n",
      "50%     36.000000\n",
      "75%     48.000000\n",
      "max     60.000000\n"
     ]
    }
   ],
   "source": [
    "loan_dev_df = pd.read_sql('''SELECT duration FROM loan_dev ''', conn)\n",
    "\n",
    "loan_dev_df = loan_dev_df.loc[:, ~loan_dev_df.columns.duplicated()]\n",
    "\n",
    "print(loan_dev_df.head())\n",
    "\n",
    "plt.hist(loan_dev_df[\"duration\"], bins=50)\n",
    "plt.gca().set(title='Frequency Histogram', ylabel='Loan duration')\n",
    "plt.show()\n",
    "\n",
    "print(loan_dev_df.describe())"
   ]
  },
  {
   "cell_type": "markdown",
   "id": "d5ed0e7e",
   "metadata": {},
   "source": [
    "## Date"
   ]
  },
  {
   "cell_type": "code",
   "execution_count": 204,
   "id": "efd73343",
   "metadata": {},
   "outputs": [
    {
     "name": "stdout",
     "output_type": "stream",
     "text": [
      "        date\n",
      "0 1993-07-05\n",
      "1 1993-07-11\n",
      "2 1993-07-28\n",
      "3 1993-08-03\n",
      "4 1993-09-06\n",
      "                                date\n",
      "count                            328\n",
      "mean   1995-06-21 08:02:55.609756160\n",
      "min              1993-07-05 00:00:00\n",
      "25%              1994-08-09 06:00:00\n",
      "50%              1995-05-31 00:00:00\n",
      "75%              1996-05-25 06:00:00\n",
      "max              1996-12-27 00:00:00\n"
     ]
    },
    {
     "data": {
      "image/png": "[encoded data removed]",
      "text/plain": [
       "<Figure size 432x288 with 1 Axes>"
      ]
     },
     "metadata": {
      "needs_background": "light"
     },
     "output_type": "display_data"
    }
   ],
   "source": [
    "loan_dev_df = pd.read_sql('''SELECT date FROM loan_dev ''', conn)\n",
    "\n",
    "loan_dev_df = loan_dev_df.loc[:, ~loan_dev_df.columns.duplicated()]\n",
    "loan_dev_df['date']= pd.to_datetime(loan_dev_df['date'])\n",
    "\n",
    "print(loan_dev_df.head())\n",
    "print(loan_dev_df.describe(datetime_is_numeric=True))\n",
    "\n",
    "plt.hist(loan_dev_df[\"date\"], bins=50)\n",
    "plt.gca().set(title='Frequency Histogram', ylabel='Loan date')\n",
    "plt.show()\n",
    "\n"
   ]
  },
  {
   "cell_type": "markdown",
   "id": "bd406733",
   "metadata": {},
   "source": [
    "## Payments"
   ]
  },
  {
   "cell_type": "code",
   "execution_count": 98,
   "id": "af9e3349",
   "metadata": {},
   "outputs": [
    {
     "name": "stdout",
     "output_type": "stream",
     "text": [
      "   payments\n",
      "0      8033\n",
      "1      4610\n",
      "2      2118\n",
      "3      2939\n",
      "4      4579\n"
     ]
    },
    {
     "data": {
      "image/png": "[encoded data removed]",
      "text/plain": [
       "<Figure size 432x288 with 1 Axes>"
      ]
     },
     "metadata": {
      "needs_background": "light"
     },
     "output_type": "display_data"
    },
    {
     "name": "stdout",
     "output_type": "stream",
     "text": [
      "          payments\n",
      "count   328.000000\n",
      "mean   4150.932927\n",
      "std    2193.620989\n",
      "min     319.000000\n",
      "25%    2368.750000\n",
      "50%    3878.500000\n",
      "75%    5907.750000\n",
      "max    9689.000000\n"
     ]
    }
   ],
   "source": [
    "loan_dev_df = pd.read_sql('''SELECT payments FROM loan_dev ''', conn)\n",
    "\n",
    "loan_dev_df = loan_dev_df.loc[:, ~loan_dev_df.columns.duplicated()]\n",
    "\n",
    "print(loan_dev_df.head())\n",
    "\n",
    "plt.hist(loan_dev_df[\"payments\"], bins=50)\n",
    "plt.gca().set(title='Frequency Histogram', ylabel='Loan payments')\n",
    "plt.show()\n",
    "\n",
    "print(loan_dev_df.describe())"
   ]
  },
  {
   "cell_type": "markdown",
   "id": "fcf0552c",
   "metadata": {},
   "source": [
    "## Status vs Loan amount"
   ]
  },
  {
   "cell_type": "code",
   "execution_count": 210,
   "id": "0d759a07",
   "metadata": {},
   "outputs": [
    {
     "name": "stdout",
     "output_type": "stream",
     "text": [
      "Payed loans amount\n",
      "\n",
      "   amount\n",
      "0  165960\n",
      "1  127080\n",
      "2  105804\n",
      "3  274740\n",
      "4   87840\n",
      "              amount\n",
      "count     282.000000\n",
      "mean   139865.914894\n",
      "std    103692.396883\n",
      "min      4980.000000\n",
      "25%     63324.000000\n",
      "50%    106722.000000\n",
      "75%    193662.000000\n",
      "max    538500.000000\n",
      "\n",
      "Unpayed loans amount\n",
      "\n",
      "   amount\n",
      "0   96396\n",
      "1  174744\n",
      "2  464520\n",
      "3   75624\n",
      "4   49320\n",
      "              amount\n",
      "count      46.000000\n",
      "mean   178674.782609\n",
      "std    109673.150761\n",
      "min     29448.000000\n",
      "25%     89511.000000\n",
      "50%    171864.000000\n",
      "75%    246600.000000\n",
      "max    482940.000000\n"
     ]
    },
    {
     "data": {
      "image/png": "[encoded data removed]",
      "text/plain": [
       "<Figure size 432x288 with 1 Axes>"
      ]
     },
     "metadata": {
      "needs_background": "light"
     },
     "output_type": "display_data"
    }
   ],
   "source": [
    "loan_payed = pd.read_sql('''SELECT amount FROM loan_dev WHERE status = \"1\" ''', conn)\n",
    "loan_unpayed = pd.read_sql('''SELECT amount FROM loan_dev WHERE status = \"-1\" ''', conn)\n",
    "\n",
    "loan_payed = loan_payed.loc[:, ~loan_payed.columns.duplicated()]\n",
    "loan_unpayed = loan_unpayed.loc[:, ~loan_unpayed.columns.duplicated()]\n",
    "\n",
    "print(\"Payed loans amount\\n\")\n",
    "print(loan_payed.head())\n",
    "print(loan_payed.describe())\n",
    "print()\n",
    "print(\"Unpayed loans amount\\n\")\n",
    "print(loan_unpayed.head())\n",
    "print(loan_unpayed.describe())\n",
    "\n",
    "plt.hist(loan_payed[\"amount\"], bins=50, color='blue')\n",
    "plt.hist(loan_unpayed[\"amount\"], bins=50, color='red', alpha=0.45)\n",
    "plt.legend(['Payed', \n",
    "            'Unpayed'])\n",
    "plt.show()\n",
    "\n",
    "\n"
   ]
  },
  {
   "cell_type": "markdown",
   "id": "a9155c99",
   "metadata": {},
   "source": [
    "## Status vs Age at loan"
   ]
  },
  {
   "cell_type": "code",
   "execution_count": 209,
   "id": "6da8292d",
   "metadata": {},
   "outputs": [
    {
     "data": {
      "image/png": "[encoded data removed]",
      "text/plain": [
       "<Figure size 432x288 with 1 Axes>"
      ]
     },
     "metadata": {
      "needs_background": "light"
     },
     "output_type": "display_data"
    },
    {
     "name": "stdout",
     "output_type": "stream",
     "text": [
      "   age_at_loan_payed\n",
      "0                 48\n",
      "1                 51\n",
      "2                 51\n",
      "3                 54\n",
      "4                 54\n",
      "\n",
      "       age_at_loan_payed\n",
      "count         282.000000\n",
      "mean           35.620567\n",
      "std            12.303459\n",
      "min            13.000000\n",
      "25%            25.000000\n",
      "50%            35.000000\n",
      "75%            46.000000\n",
      "max            60.000000\n",
      "   age_at_loan_unpayed\n",
      "0                   57\n",
      "1                   47\n",
      "2                   28\n",
      "3                   42\n",
      "4                   39\n",
      "\n",
      "       age_at_loan_unpayed\n",
      "count            46.000000\n",
      "mean             36.586957\n",
      "std              13.978676\n",
      "min              15.000000\n",
      "25%              24.500000\n",
      "50%              36.500000\n",
      "75%              48.000000\n",
      "max              60.000000\n"
     ]
    }
   ],
   "source": [
    "loan_dev_df_payed = pd.read_sql('''SELECT loan_dev.date, birth_number, disp.type, status FROM account\n",
    "    JOIN loan_dev ON loan_dev.account_id = account.account_id\n",
    "    LEFT JOIN disp ON disp.account_id = account.account_id\n",
    "    LEFT JOIN client ON client.client_id = disp.client_id\n",
    "    LEFT JOIN district ON district.code = client.district_id\n",
    "    WHERE disp.type = \"OWNER\"and status = 1\n",
    "''', conn)\n",
    "\n",
    "loan_dev_df_unpayed = pd.read_sql('''SELECT loan_dev.date, birth_number, disp.type, status FROM account\n",
    "    JOIN loan_dev ON loan_dev.account_id = account.account_id\n",
    "    LEFT JOIN disp ON disp.account_id = account.account_id\n",
    "    LEFT JOIN client ON client.client_id = disp.client_id\n",
    "    LEFT JOIN district ON district.code = client.district_id\n",
    "    WHERE disp.type = \"OWNER\" and status = -1\n",
    "''', conn)\n",
    "\n",
    "loan_dev_df_payed = loan_dev_df_payed.loc[:, ~loan_dev_df_payed.columns.duplicated()]\n",
    "loan_dev_df_unpayed = loan_dev_df_unpayed.loc[:, ~loan_dev_df_unpayed.columns.duplicated()]\n",
    "\n",
    "age_at_loan_payed = get_age_at_loan(loan_dev_df_payed)\n",
    "age_at_loan_unpayed = get_age_at_loan(loan_dev_df_unpayed)\n",
    "\n",
    "age_payed = pd.DataFrame(age_at_loan_payed, columns = [\"age_at_loan_payed\"])\n",
    "age_unpayed = pd.DataFrame(age_at_loan_unpayed, columns = [\"age_at_loan_unpayed\"])\n",
    "\n",
    "\n",
    "plt.hist(age_at_loan_payed, bins=50, color='blue')\n",
    "plt.hist(age_at_loan_unpayed, bins=50, color='red', alpha=0.45)\n",
    "plt.legend(['Payed', \n",
    "            'Unpayed'])\n",
    "plt.show()\n",
    "\n",
    "\n",
    "print(age_payed.head())\n",
    "print()\n",
    "print(age_payed.describe())\n",
    "\n",
    "print(age_unpayed.head())\n",
    "print()\n",
    "print(age_unpayed.describe())"
   ]
  },
  {
   "cell_type": "markdown",
   "id": "aa964e59",
   "metadata": {},
   "source": [
    "## Status vs duration"
   ]
  },
  {
   "cell_type": "code",
   "execution_count": 208,
   "id": "6fd43b65",
   "metadata": {},
   "outputs": [
    {
     "name": "stdout",
     "output_type": "stream",
     "text": [
      "Payed loans duration\n",
      "\n",
      "   duration\n",
      "0        36\n",
      "1        60\n",
      "2        36\n",
      "3        60\n",
      "4        24\n",
      "         duration\n",
      "count  282.000000\n",
      "mean    35.829787\n",
      "std     16.878868\n",
      "min     12.000000\n",
      "25%     24.000000\n",
      "50%     36.000000\n",
      "75%     48.000000\n",
      "max     60.000000\n",
      "\n",
      "Unpayed loans duration\n",
      "\n",
      "   duration\n",
      "0        12\n",
      "1        24\n",
      "2        60\n",
      "3        24\n",
      "4        12\n",
      "       duration\n",
      "count      46.0\n",
      "mean       36.0\n",
      "std        16.0\n",
      "min        12.0\n",
      "25%        24.0\n",
      "50%        36.0\n",
      "75%        48.0\n",
      "max        60.0\n"
     ]
    },
    {
     "data": {
      "image/png": "[encoded data removed]",
      "text/plain": [
       "<Figure size 432x288 with 1 Axes>"
      ]
     },
     "metadata": {
      "needs_background": "light"
     },
     "output_type": "display_data"
    }
   ],
   "source": [
    "loan_payed = pd.read_sql('''SELECT duration FROM loan_dev WHERE status = \"1\" ''', conn)\n",
    "loan_unpayed = pd.read_sql('''SELECT duration FROM loan_dev WHERE status = \"-1\" ''', conn)\n",
    "\n",
    "loan_payed = loan_payed.loc[:, ~loan_payed.columns.duplicated()]\n",
    "loan_unpayed = loan_unpayed.loc[:, ~loan_unpayed.columns.duplicated()]\n",
    "\n",
    "print(\"Payed loans duration\\n\")\n",
    "print(loan_payed.head())\n",
    "print(loan_payed.describe())\n",
    "print()\n",
    "print(\"Unpayed loans duration\\n\")\n",
    "print(loan_unpayed.head())\n",
    "print(loan_unpayed.describe())\n",
    "\n",
    "plt.hist(loan_payed[\"duration\"], bins=50, color='blue')\n",
    "plt.hist(loan_unpayed[\"duration\"], bins=50, color='red', alpha=0.45)\n",
    "plt.legend(['Payed', \n",
    "            'Unpayed'])\n",
    "plt.show()"
   ]
  },
  {
   "cell_type": "markdown",
   "id": "04712bbf",
   "metadata": {},
   "source": [
    "## Status vs payments"
   ]
  },
  {
   "cell_type": "code",
   "execution_count": 207,
   "id": "e60192a1",
   "metadata": {
    "scrolled": true
   },
   "outputs": [
    {
     "name": "stdout",
     "output_type": "stream",
     "text": [
      "Payed loans payments\n",
      "\n",
      "   payments\n",
      "0      4610\n",
      "1      2118\n",
      "2      2939\n",
      "3      4579\n",
      "4      3660\n",
      "          payments\n",
      "count   282.000000\n",
      "mean   4001.932624\n",
      "std    2153.345360\n",
      "min     319.000000\n",
      "25%    2142.500000\n",
      "50%    3802.500000\n",
      "75%    5628.750000\n",
      "max    9689.000000\n",
      "\n",
      "Unpayed loans payments\n",
      "\n",
      "   payments\n",
      "0      8033\n",
      "1      7281\n",
      "2      7742\n",
      "3      3151\n",
      "4      4110\n",
      "          payments\n",
      "count    46.000000\n",
      "mean   5064.369565\n",
      "std    2240.564288\n",
      "min    1671.000000\n",
      "25%    3050.500000\n",
      "50%    4701.000000\n",
      "75%    7281.000000\n",
      "max    8308.000000\n"
     ]
    },
    {
     "data": {
      "image/png": "[encoded data removed]",
      "text/plain": [
       "<Figure size 432x288 with 1 Axes>"
      ]
     },
     "metadata": {
      "needs_background": "light"
     },
     "output_type": "display_data"
    }
   ],
   "source": [
    "loan_payed = pd.read_sql('''SELECT payments FROM loan_dev WHERE status = \"1\" ''', conn)\n",
    "loan_unpayed = pd.read_sql('''SELECT payments FROM loan_dev WHERE status = \"-1\" ''', conn)\n",
    "\n",
    "loan_payed = loan_payed.loc[:, ~loan_payed.columns.duplicated()]\n",
    "loan_unpayed = loan_unpayed.loc[:, ~loan_unpayed.columns.duplicated()]\n",
    "\n",
    "print(\"Payed loans payments\\n\")\n",
    "print(loan_payed.head())\n",
    "print(loan_payed.describe())\n",
    "print()\n",
    "print(\"Unpayed loans payments\\n\")\n",
    "print(loan_unpayed.head())\n",
    "print(loan_unpayed.describe())\n",
    "\n",
    "plt.hist(loan_payed[\"payments\"], bins=50, color='blue')\n",
    "plt.hist(loan_unpayed[\"payments\"], bins=50, color='red', alpha=0.45)\n",
    "plt.legend(['Payed', \n",
    "            'Unpayed'])\n",
    "plt.show()"
   ]
  },
  {
   "cell_type": "markdown",
   "id": "cfa08083",
   "metadata": {},
   "source": [
    "## District"
   ]
  },
  {
   "cell_type": "code",
   "execution_count": 144,
   "id": "b90014f0",
   "metadata": {},
   "outputs": [
    {
     "name": "stdout",
     "output_type": "stream",
     "text": [
      "          name\n",
      "0        Pisek\n",
      "1  Hl.m. Praha\n",
      "2  Hl.m. Praha\n",
      "3        Kolin\n",
      "4        Kolin\n",
      "\n",
      "               name\n",
      "count          5369\n",
      "unique           77\n",
      "top     Hl.m. Praha\n",
      "freq            663\n"
     ]
    },
    {
     "data": {
      "image/png": "[encoded data removed]",
      "text/plain": [
       "<Figure size 432x288 with 1 Axes>"
      ]
     },
     "metadata": {
      "needs_background": "light"
     },
     "output_type": "display_data"
    }
   ],
   "source": [
    "district_client = pd.read_sql('''SELECT name FROM client JOIN district ON district.code = client.district_id''', conn)\n",
    "\n",
    "district_client = district_client.loc[:, ~district_client.columns.duplicated()]\n",
    "\n",
    "print(district_client.head())\n",
    "print()\n",
    "print(district_client.describe())\n",
    "\n",
    "fig, ax = plt.subplots()\n",
    "ax.hist(district_client[\"name\"], bins=50)\n",
    "for tick in ax.get_xticklabels():\n",
    "    tick.set_rotation(90)\n",
    "plt.show()"
   ]
  },
  {
   "cell_type": "markdown",
   "id": "c793a502",
   "metadata": {},
   "source": [
    "## Region"
   ]
  },
  {
   "cell_type": "code",
   "execution_count": 211,
   "id": "201c5407",
   "metadata": {},
   "outputs": [
    {
     "name": "stdout",
     "output_type": "stream",
     "text": [
      "            region\n",
      "0    south Bohemia\n",
      "1           Prague\n",
      "2           Prague\n",
      "3  central Bohemia\n",
      "4  central Bohemia\n",
      "\n",
      "               region\n",
      "count            5369\n",
      "unique              8\n",
      "top     south Moravia\n",
      "freq              937\n"
     ]
    },
    {
     "data": {
      "image/png": "[encoded data removed]",
      "text/plain": [
       "<Figure size 432x288 with 1 Axes>"
      ]
     },
     "metadata": {
      "needs_background": "light"
     },
     "output_type": "display_data"
    }
   ],
   "source": [
    "district_client = pd.read_sql('''SELECT region FROM client JOIN district ON district.code = client.district_id''', conn)\n",
    "\n",
    "district_client = district_client.loc[:, ~district_client.columns.duplicated()]\n",
    "\n",
    "print(district_client.head())\n",
    "print()\n",
    "print(district_client.describe())\n",
    "\n",
    "fig, ax = plt.subplots()\n",
    "ax.hist(district_client[\"region\"], bins=50)\n",
    "for tick in ax.get_xticklabels():\n",
    "    tick.set_rotation(90)\n",
    "plt.show()"
   ]
  },
  {
   "cell_type": "markdown",
   "id": "f541ba37",
   "metadata": {},
   "source": [
    "## Average zone salary"
   ]
  },
  {
   "cell_type": "code",
   "execution_count": 143,
   "id": "b23b19aa",
   "metadata": {},
   "outputs": [
    {
     "name": "stdout",
     "output_type": "stream",
     "text": [
      "   average salary \n",
      "0             8968\n",
      "1            12541\n",
      "2            12541\n",
      "3             9307\n",
      "4             9307\n",
      "\n",
      "       average salary \n",
      "count      5369.000000\n",
      "mean       9510.758614\n",
      "std        1330.686689\n",
      "min        8110.000000\n",
      "25%        8547.000000\n",
      "50%        8980.000000\n",
      "75%        9897.000000\n",
      "max       12541.000000\n"
     ]
    },
    {
     "data": {
      "image/png": "[encoded data removed]",
      "text/plain": [
       "<Figure size 432x288 with 1 Axes>"
      ]
     },
     "metadata": {
      "needs_background": "light"
     },
     "output_type": "display_data"
    }
   ],
   "source": [
    "district_client = pd.read_sql('''SELECT \"average salary \" FROM client JOIN district ON district.code = client.district_id''', conn)\n",
    "\n",
    "district_client = district_client.loc[:, ~district_client.columns.duplicated()]\n",
    "\n",
    "print(district_client.head())\n",
    "print()\n",
    "print(district_client.describe())\n",
    "\n",
    "\n",
    "fig, ax = plt.subplots()\n",
    "ax.hist(district_client[\"average salary \"], bins=50)\n",
    "for tick in ax.get_xticklabels():\n",
    "    tick.set_rotation(90)\n",
    "plt.show()"
   ]
  },
  {
   "cell_type": "markdown",
   "id": "0e03d079",
   "metadata": {},
   "source": [
    "## no. of inhabitants"
   ]
  },
  {
   "cell_type": "code",
   "execution_count": 145,
   "id": "d3134369",
   "metadata": {},
   "outputs": [
    {
     "name": "stdout",
     "output_type": "stream",
     "text": [
      "   no. of inhabitants\n",
      "0               70699\n",
      "1             1204953\n",
      "2             1204953\n",
      "3               95616\n",
      "4               95616\n",
      "\n",
      "       no. of inhabitants\n",
      "count        5.369000e+03\n",
      "mean         2.692806e+05\n",
      "std          3.590500e+05\n",
      "min          4.282100e+04\n",
      "25%          8.888400e+04\n",
      "50%          1.219470e+05\n",
      "75%          2.261220e+05\n",
      "max          1.204953e+06\n"
     ]
    },
    {
     "data": {
      "image/png": "[encoded data removed]",
      "text/plain": [
       "<Figure size 432x288 with 1 Axes>"
      ]
     },
     "metadata": {
      "needs_background": "light"
     },
     "output_type": "display_data"
    }
   ],
   "source": [
    "district_client = pd.read_sql('''SELECT \"no. of inhabitants\" FROM client JOIN district ON district.code = client.district_id''', conn)\n",
    "\n",
    "district_client = district_client.loc[:, ~district_client.columns.duplicated()]\n",
    "\n",
    "print(district_client.head())\n",
    "print()\n",
    "print(district_client.describe())\n",
    "\n",
    "\n",
    "fig, ax = plt.subplots()\n",
    "ax.hist(district_client[\"no. of inhabitants\"], bins=50)\n",
    "for tick in ax.get_xticklabels():\n",
    "    tick.set_rotation(90)\n",
    "plt.show()"
   ]
  },
  {
   "cell_type": "markdown",
   "id": "d6604df2",
   "metadata": {},
   "source": [
    "## ratio of urban inhabitants "
   ]
  },
  {
   "cell_type": "code",
   "execution_count": 160,
   "id": "f46b89b8",
   "metadata": {},
   "outputs": [
    {
     "name": "stdout",
     "output_type": "stream",
     "text": [
      "   ratio of urban inhabitants \n",
      "0                         65.3\n",
      "1                        100.0\n",
      "2                        100.0\n",
      "3                         51.4\n",
      "4                         51.4\n",
      "\n",
      "       ratio of urban inhabitants \n",
      "count                  5369.000000\n",
      "mean                     69.240045\n",
      "std                      19.896870\n",
      "min                      33.900000\n",
      "25%                      52.700000\n",
      "50%                      63.100000\n",
      "75%                      85.600000\n",
      "max                     100.000000\n"
     ]
    },
    {
     "data": {
      "image/png": "[encoded data removed]",
      "text/plain": [
       "<Figure size 432x288 with 1 Axes>"
      ]
     },
     "metadata": {
      "needs_background": "light"
     },
     "output_type": "display_data"
    }
   ],
   "source": [
    "district_client = pd.read_sql('''SELECT \"ratio of urban inhabitants \" FROM client JOIN district ON district.code = client.district_id''', conn)\n",
    "\n",
    "district_client = district_client.loc[:, ~district_client.columns.duplicated()]\n",
    "\n",
    "print(district_client.head())\n",
    "print()\n",
    "print(district_client.describe())\n",
    "\n",
    "\n",
    "fig, ax = plt.subplots()\n",
    "ax.hist(district_client[\"ratio of urban inhabitants \"], bins=50)\n",
    "\n",
    "plt.show()"
   ]
  },
  {
   "cell_type": "markdown",
   "id": "ff3eeab5",
   "metadata": {},
   "source": [
    "## unemploymant rate"
   ]
  },
  {
   "cell_type": "code",
   "execution_count": 199,
   "id": "b2da0b0f",
   "metadata": {},
   "outputs": [
    {
     "name": "stdout",
     "output_type": "stream",
     "text": [
      "   unemploymant rate '95   unemploymant rate '96 \n",
      "0                    2.83                    3.35\n",
      "1                    0.29                    0.43\n",
      "2                    0.29                    0.43\n",
      "3                    3.85                    4.43\n",
      "4                    3.85                    4.43\n",
      "\n",
      "       unemploymant rate '95   unemploymant rate '96 \n",
      "count             5369.000000             5369.000000\n",
      "mean                 2.912486                3.490942\n",
      "std                  1.889014                2.134924\n",
      "min                  0.290000                0.430000\n",
      "25%                  1.600000                1.960000\n",
      "50%                  2.770000                3.470000\n",
      "75%                  4.010000                4.790000\n",
      "max                  7.340000                9.400000\n"
     ]
    },
    {
     "data": {
      "image/png": "[encoded data removed]",
      "text/plain": [
       "<Figure size 432x288 with 1 Axes>"
      ]
     },
     "metadata": {
      "needs_background": "light"
     },
     "output_type": "display_data"
    }
   ],
   "source": [
    "district_client = pd.read_sql('''SELECT  \"unemploymant rate '95 \", \"unemploymant rate '96 \" FROM client LEFT JOIN district ON district.code = client.district_id''', conn)\n",
    "\n",
    "\n",
    "district_client.loc[district_client[\"unemploymant rate '95 \"] == '?',\n",
    "                \"unemploymant rate '95 \"] = district_client[\"unemploymant rate '96 \"]\n",
    "\n",
    "district_client[\"unemploymant rate '95 \"] = district_client[\"unemploymant rate '95 \"].astype('float')\n",
    "\n",
    "print(district_client.head())\n",
    "print()\n",
    "print(district_client.describe())\n",
    "\n",
    "\n",
    "fig, ax = plt.subplots()\n",
    "ax.hist(district_client[\"unemploymant rate '95 \"], bins=50, color=\"blue\")\n",
    "ax.hist(district_client[\"unemploymant rate '96 \"], bins=50, alpha = 0.5, color=\"red\")\n",
    "plt.show()\n",
    "\n"
   ]
  },
  {
   "cell_type": "markdown",
   "id": "4d116753",
   "metadata": {},
   "source": [
    "## crime rate"
   ]
  },
  {
   "cell_type": "code",
   "execution_count": 205,
   "id": "59d1fd6f",
   "metadata": {},
   "outputs": [
    {
     "name": "stdout",
     "output_type": "stream",
     "text": [
      "   no. of commited crimes '95   no. of commited crimes '96 \n",
      "0                       1740.0                         1910\n",
      "1                      85677.0                        99107\n",
      "2                      85677.0                        99107\n",
      "3                       2616.0                         3040\n",
      "4                       2616.0                         3040\n",
      "\n",
      "       no. of commited crimes '95   no. of commited crimes '96 \n",
      "count                  5369.000000                  5369.000000\n",
      "mean                  14665.696405                 16352.240082\n",
      "std                   26977.698874                 31330.146616\n",
      "min                     818.000000                   888.000000\n",
      "25%                    2159.000000                  2252.000000\n",
      "50%                    3729.000000                  3839.000000\n",
      "75%                    6604.000000                  6295.000000\n",
      "max                   85677.000000                 99107.000000\n"
     ]
    },
    {
     "data": {
      "image/png": "[encoded data removed]",
      "text/plain": [
       "<Figure size 432x288 with 1 Axes>"
      ]
     },
     "metadata": {
      "needs_background": "light"
     },
     "output_type": "display_data"
    }
   ],
   "source": [
    "district_client = pd.read_sql('''SELECT  \"no. of commited crimes '95 \", \"no. of commited crimes '96 \" FROM client LEFT JOIN district ON district.code = client.district_id''', conn)\n",
    "\n",
    "\n",
    "district_client.loc[district_client[\"no. of commited crimes '95 \"] == '?',\n",
    "                \"no. of commited crimes '95 \"] = district_client[\"no. of commited crimes '96 \"]\n",
    "\n",
    "district_client[\"no. of commited crimes '95 \"] = district_client[\"no. of commited crimes '95 \"].astype('float')\n",
    "\n",
    "print(district_client.head())\n",
    "print()\n",
    "print(district_client.describe())\n",
    "\n",
    "\n",
    "fig, ax = plt.subplots()\n",
    "ax.hist(district_client[\"no. of commited crimes '95 \"], bins=50, color=\"blue\")\n",
    "ax.hist(district_client[\"no. of commited crimes '96 \"], bins=50, alpha = 0.5, color=\"red\")\n",
    "plt.show()\n"
   ]
  },
  {
   "cell_type": "markdown",
   "id": "79cf8a12",
   "metadata": {},
   "source": [
    "## Status vs District"
   ]
  },
  {
   "cell_type": "code",
   "execution_count": 212,
   "id": "ef2a6932",
   "metadata": {},
   "outputs": [
    {
     "name": "stdout",
     "output_type": "stream",
     "text": [
      "                name\n",
      "0        Hl.m. Praha\n",
      "1  Jindrichuv Hradec\n",
      "2            Teplice\n",
      "3   Zdar nad Sazavou\n",
      "4            Breclav\n",
      "\n",
      "               name\n",
      "count           282\n",
      "unique           71\n",
      "top     Hl.m. Praha\n",
      "freq             35\n",
      "           name\n",
      "0         Tabor\n",
      "1   Hl.m. Praha\n",
      "2     Prostejov\n",
      "3  Brno - mesto\n",
      "4       Jesenik\n",
      "\n",
      "               name\n",
      "count            46\n",
      "unique           30\n",
      "top     Hl.m. Praha\n",
      "freq              6\n"
     ]
    },
    {
     "data": {
      "image/png": "[encoded data removed]",
      "text/plain": [
       "<Figure size 432x288 with 1 Axes>"
      ]
     },
     "metadata": {
      "needs_background": "light"
     },
     "output_type": "display_data"
    }
   ],
   "source": [
    "district_client_p = pd.read_sql('''SELECT district.name FROM account\n",
    "    JOIN loan_dev ON loan_dev.account_id = account.account_id\n",
    "    LEFT JOIN disp ON disp.account_id = account.account_id\n",
    "    LEFT JOIN client ON client.client_id = disp.client_id\n",
    "    LEFT JOIN district ON district.code = client.district_id\n",
    "    WHERE disp.type = \"OWNER\" and status = 1\n",
    "''', conn)\n",
    "\n",
    "district_client_up = pd.read_sql('''SELECT district.name FROM account\n",
    "    JOIN loan_dev ON loan_dev.account_id = account.account_id\n",
    "    LEFT JOIN disp ON disp.account_id = account.account_id\n",
    "    LEFT JOIN client ON client.client_id = disp.client_id\n",
    "    LEFT JOIN district ON district.code = client.district_id\n",
    "    WHERE disp.type = \"OWNER\" and status = -1\n",
    "''', conn)\n",
    "\n",
    "\n",
    "print(district_client_p.head())\n",
    "print()\n",
    "print(district_client_p.describe())\n",
    "\n",
    "print(district_client_up.head())\n",
    "print()\n",
    "print(district_client_up.describe())\n",
    "\n",
    "fig, ax = plt.subplots()\n",
    "ax.hist(district_client_p[\"name\"], bins=50, color = \"blue\")\n",
    "ax.hist(district_client_up[\"name\"], bins=50, color = \"red\", alpha = 0.45)\n",
    "for tick in ax.get_xticklabels():\n",
    "    tick.set_rotation(90)\n",
    "plt.show()"
   ]
  },
  {
   "cell_type": "markdown",
   "id": "7ae8eb73",
   "metadata": {},
   "source": [
    "## Status vs Region"
   ]
  },
  {
   "cell_type": "code",
   "execution_count": 214,
   "id": "88ec40ed",
   "metadata": {},
   "outputs": [
    {
     "name": "stdout",
     "output_type": "stream",
     "text": [
      "          region\n",
      "0         Prague\n",
      "1  south Bohemia\n",
      "2  north Bohemia\n",
      "3  south Moravia\n",
      "4  south Moravia\n",
      "\n",
      "               region\n",
      "count             282\n",
      "unique              8\n",
      "top     south Moravia\n",
      "freq               60\n",
      "          region\n",
      "0  south Bohemia\n",
      "1         Prague\n",
      "2  south Moravia\n",
      "3  south Moravia\n",
      "4  north Moravia\n",
      "\n",
      "               region\n",
      "count              46\n",
      "unique              8\n",
      "top     north Moravia\n",
      "freq               12\n"
     ]
    },
    {
     "data": {
      "image/png": "[encoded data removed]",
      "text/plain": [
       "<Figure size 432x288 with 1 Axes>"
      ]
     },
     "metadata": {
      "needs_background": "light"
     },
     "output_type": "display_data"
    }
   ],
   "source": [
    "district_client_p = pd.read_sql('''SELECT district.region FROM account\n",
    "    JOIN loan_dev ON loan_dev.account_id = account.account_id\n",
    "    LEFT JOIN disp ON disp.account_id = account.account_id\n",
    "    LEFT JOIN client ON client.client_id = disp.client_id\n",
    "    LEFT JOIN district ON district.code = client.district_id\n",
    "    WHERE disp.type = \"OWNER\" and status = 1\n",
    "''', conn)\n",
    "\n",
    "district_client_up = pd.read_sql('''SELECT district.region FROM account\n",
    "    JOIN loan_dev ON loan_dev.account_id = account.account_id\n",
    "    LEFT JOIN disp ON disp.account_id = account.account_id\n",
    "    LEFT JOIN client ON client.client_id = disp.client_id\n",
    "    LEFT JOIN district ON district.code = client.district_id\n",
    "    WHERE disp.type = \"OWNER\" and status = -1\n",
    "''', conn)\n",
    "\n",
    "\n",
    "print(district_client_p.head())\n",
    "print()\n",
    "print(district_client_p.describe())\n",
    "\n",
    "print(district_client_up.head())\n",
    "print()\n",
    "print(district_client_up.describe())\n",
    "\n",
    "fig, ax = plt.subplots()\n",
    "ax.hist(district_client_p[\"region\"], bins=50, color = \"blue\")\n",
    "ax.hist(district_client_up[\"region\"], bins=50, color = \"red\", alpha = 0.45)\n",
    "for tick in ax.get_xticklabels():\n",
    "    tick.set_rotation(90)\n",
    "plt.show()"
   ]
  },
  {
   "cell_type": "markdown",
   "id": "8708ba9d",
   "metadata": {},
   "source": [
    "## Status vs Average Salary"
   ]
  },
  {
   "cell_type": "code",
   "execution_count": 215,
   "id": "4a9b28a5",
   "metadata": {},
   "outputs": [
    {
     "name": "stdout",
     "output_type": "stream",
     "text": [
      "   average salary \n",
      "0            12541\n",
      "1             8427\n",
      "2             9317\n",
      "3             8512\n",
      "4             8772\n",
      "\n",
      "       average salary \n",
      "count       282.000000\n",
      "mean       9530.166667\n",
      "std        1314.350269\n",
      "min        8110.000000\n",
      "25%        8547.000000\n",
      "50%        8994.000000\n",
      "75%        9914.250000\n",
      "max       12541.000000\n",
      "   average salary \n",
      "0             9104\n",
      "1            12541\n",
      "2             8441\n",
      "3             9897\n",
      "4             8173\n",
      "\n",
      "       average salary \n",
      "count        46.000000\n",
      "mean       9480.130435\n",
      "std        1364.826039\n",
      "min        8110.000000\n",
      "25%        8469.750000\n",
      "50%        8991.000000\n",
      "75%        9896.000000\n",
      "max       12541.000000\n"
     ]
    },
    {
     "data": {
      "image/png": "[encoded data removed]",
      "text/plain": [
       "<Figure size 432x288 with 1 Axes>"
      ]
     },
     "metadata": {
      "needs_background": "light"
     },
     "output_type": "display_data"
    }
   ],
   "source": [
    "district_client_p = pd.read_sql('''SELECT district.\"average salary \" FROM account\n",
    "    JOIN loan_dev ON loan_dev.account_id = account.account_id\n",
    "    LEFT JOIN disp ON disp.account_id = account.account_id\n",
    "    LEFT JOIN client ON client.client_id = disp.client_id\n",
    "    LEFT JOIN district ON district.code = client.district_id\n",
    "    WHERE disp.type = \"OWNER\" and status = 1\n",
    "''', conn)\n",
    "\n",
    "district_client_up = pd.read_sql('''SELECT district.\"average salary \" FROM account\n",
    "    JOIN loan_dev ON loan_dev.account_id = account.account_id\n",
    "    LEFT JOIN disp ON disp.account_id = account.account_id\n",
    "    LEFT JOIN client ON client.client_id = disp.client_id\n",
    "    LEFT JOIN district ON district.code = client.district_id\n",
    "    WHERE disp.type = \"OWNER\" and status = -1\n",
    "''', conn)\n",
    "\n",
    "\n",
    "print(district_client_p.head())\n",
    "print()\n",
    "print(district_client_p.describe())\n",
    "\n",
    "print(district_client_up.head())\n",
    "print()\n",
    "print(district_client_up.describe())\n",
    "\n",
    "fig, ax = plt.subplots()\n",
    "ax.hist(district_client_p[\"average salary \"], bins=50, color = \"blue\")\n",
    "ax.hist(district_client_up[\"average salary \"], bins=50, color = \"red\", alpha = 0.45)\n",
    "for tick in ax.get_xticklabels():\n",
    "    tick.set_rotation(90)\n",
    "plt.show()"
   ]
  },
  {
   "cell_type": "markdown",
   "id": "1d2674f1",
   "metadata": {},
   "source": [
    "## Status vs urban ration"
   ]
  },
  {
   "cell_type": "code",
   "execution_count": 216,
   "id": "3eb18336",
   "metadata": {},
   "outputs": [
    {
     "name": "stdout",
     "output_type": "stream",
     "text": [
      "   ratio of urban inhabitants \n",
      "0                        100.0\n",
      "1                         56.9\n",
      "2                         85.3\n",
      "3                         48.3\n",
      "4                         46.0\n",
      "\n",
      "       ratio of urban inhabitants \n",
      "count                   282.000000\n",
      "mean                     67.825887\n",
      "std                      20.342879\n",
      "min                      33.900000\n",
      "25%                      52.700000\n",
      "50%                      61.900000\n",
      "75%                      85.500000\n",
      "max                     100.000000\n",
      "   ratio of urban inhabitants \n",
      "0                         67.0\n",
      "1                        100.0\n",
      "2                         51.9\n",
      "3                        100.0\n",
      "4                         48.4\n",
      "\n",
      "       ratio of urban inhabitants \n",
      "count                    46.000000\n",
      "mean                     68.523913\n",
      "std                      19.985597\n",
      "min                      36.500000\n",
      "25%                      54.025000\n",
      "50%                      62.000000\n",
      "75%                      87.875000\n",
      "max                     100.000000\n"
     ]
    },
    {
     "data": {
      "image/png": "[encoded data removed]",
      "text/plain": [
       "<Figure size 432x288 with 1 Axes>"
      ]
     },
     "metadata": {
      "needs_background": "light"
     },
     "output_type": "display_data"
    }
   ],
   "source": [
    "district_client_p = pd.read_sql('''SELECT district.\"ratio of urban inhabitants \" FROM account\n",
    "    JOIN loan_dev ON loan_dev.account_id = account.account_id\n",
    "    LEFT JOIN disp ON disp.account_id = account.account_id\n",
    "    LEFT JOIN client ON client.client_id = disp.client_id\n",
    "    LEFT JOIN district ON district.code = client.district_id\n",
    "    WHERE disp.type = \"OWNER\" and status = 1\n",
    "''', conn)\n",
    "\n",
    "district_client_up = pd.read_sql('''SELECT district.\"ratio of urban inhabitants \" FROM account\n",
    "    JOIN loan_dev ON loan_dev.account_id = account.account_id\n",
    "    LEFT JOIN disp ON disp.account_id = account.account_id\n",
    "    LEFT JOIN client ON client.client_id = disp.client_id\n",
    "    LEFT JOIN district ON district.code = client.district_id\n",
    "    WHERE disp.type = \"OWNER\" and status = -1\n",
    "''', conn)\n",
    "\n",
    "\n",
    "print(district_client_p.head())\n",
    "print()\n",
    "print(district_client_p.describe())\n",
    "\n",
    "print(district_client_up.head())\n",
    "print()\n",
    "print(district_client_up.describe())\n",
    "\n",
    "fig, ax = plt.subplots()\n",
    "ax.hist(district_client_p[\"ratio of urban inhabitants \"], bins=50, color = \"blue\")\n",
    "ax.hist(district_client_up[\"ratio of urban inhabitants \"], bins=50, color = \"red\", alpha = 0.45)\n",
    "for tick in ax.get_xticklabels():\n",
    "    tick.set_rotation(90)\n",
    "plt.show()"
   ]
  },
  {
   "cell_type": "markdown",
   "id": "e2b55f1f",
   "metadata": {},
   "source": [
    "## Status vs umployment"
   ]
  },
  {
   "cell_type": "code",
   "execution_count": 219,
   "id": "8811c861",
   "metadata": {},
   "outputs": [
    {
     "name": "stdout",
     "output_type": "stream",
     "text": [
      "   unemploymant rate '95   unemploymant rate '96 \n",
      "0                    0.29                    0.43\n",
      "1                    1.12                    1.54\n",
      "2                    6.49                    7.07\n",
      "3                    3.51                    4.12\n",
      "4                    4.69                    4.98\n",
      "\n",
      "       unemploymant rate '95   unemploymant rate '96 \n",
      "count              282.000000              282.000000\n",
      "mean                 2.890177                3.498617\n",
      "std                  1.944651                2.218888\n",
      "min                  0.290000                0.430000\n",
      "25%                  1.510000                1.860000\n",
      "50%                  2.645000                3.470000\n",
      "75%                  3.850000                4.772500\n",
      "max                  7.340000                9.400000\n",
      "   unemploymant rate '95   unemploymant rate '96 \n",
      "0                    1.51                    2.07\n",
      "1                    0.29                    0.43\n",
      "2                    3.45                    4.48\n",
      "3                    1.60                    1.96\n",
      "4                    7.01                    7.01\n",
      "\n",
      "       unemploymant rate '95   unemploymant rate '96 \n",
      "count               46.000000               46.000000\n",
      "mean                 3.095435                3.669783\n",
      "std                  1.914010                2.098359\n",
      "min                  0.290000                0.430000\n",
      "25%                  1.532500                2.025000\n",
      "50%                  3.240000                3.655000\n",
      "75%                  3.970000                4.790000\n",
      "max                  7.340000                9.400000\n"
     ]
    },
    {
     "data": {
      "image/png": "[encoded data removed]",
      "text/plain": [
       "<Figure size 432x288 with 1 Axes>"
      ]
     },
     "metadata": {
      "needs_background": "light"
     },
     "output_type": "display_data"
    }
   ],
   "source": [
    "district_client_p = pd.read_sql('''SELECT  \"unemploymant rate '95 \", \"unemploymant rate '96 \" FROM account\n",
    "    JOIN loan_dev ON loan_dev.account_id = account.account_id\n",
    "    LEFT JOIN disp ON disp.account_id = account.account_id\n",
    "    LEFT JOIN client ON client.client_id = disp.client_id\n",
    "    LEFT JOIN district ON district.code = client.district_id\n",
    "    WHERE disp.type = \"OWNER\" and status = 1\n",
    "''', conn)\n",
    "\n",
    "district_client_up = pd.read_sql('''SELECT  \"unemploymant rate '95 \", \"unemploymant rate '96 \" FROM account\n",
    "    JOIN loan_dev ON loan_dev.account_id = account.account_id\n",
    "    LEFT JOIN disp ON disp.account_id = account.account_id\n",
    "    LEFT JOIN client ON client.client_id = disp.client_id\n",
    "    LEFT JOIN district ON district.code = client.district_id\n",
    "    WHERE disp.type = \"OWNER\" and status = -1\n",
    "''', conn)\n",
    "\n",
    "district_client_p.loc[district_client_p[\"unemploymant rate '95 \"] == '?',\n",
    "                \"unemploymant rate '95 \"] = district_client_p[\"unemploymant rate '96 \"]\n",
    "\n",
    "district_client_p[\"unemploymant rate '95 \"] = district_client_p[\"unemploymant rate '95 \"].astype('float')\n",
    "\n",
    "district_client_up.loc[district_client_up[\"unemploymant rate '95 \"] == '?',\n",
    "                \"unemploymant rate '95 \"] = district_client_up[\"unemploymant rate '96 \"]\n",
    "\n",
    "district_client_up[\"unemploymant rate '95 \"] = district_client_up[\"unemploymant rate '95 \"].astype('float')\n",
    "\n",
    "print(district_client_p.head())\n",
    "print()\n",
    "print(district_client_p.describe())\n",
    "\n",
    "print(district_client_up.head())\n",
    "print()\n",
    "print(district_client_up.describe())\n",
    "\n",
    "fig, ax = plt.subplots()\n",
    "ax.hist(district_client_p[\"unemploymant rate '95 \"], bins=50, color = \"blue\")\n",
    "ax.hist(district_client_up[\"unemploymant rate '96 \"], bins=50, color = \"red\", alpha = 0.45)\n",
    "plt.show()\n",
    "ax.hist(district_client_p[\"unemploymant rate '95 \"], bins=50, color = \"blue\")\n",
    "ax.hist(district_client_up[\"unemploymant rate '96 \"], bins=50, color = \"red\", alpha = 0.45)\n",
    "plt.show()\n"
   ]
  },
  {
   "cell_type": "code",
   "execution_count": null,
   "id": "f26a08d6",
   "metadata": {},
   "outputs": [],
   "source": []
  }
 ],
 "metadata": {
  "kernelspec": {
   "display_name": "Python 3 (ipykernel)",
   "language": "python",
   "name": "python3"
  },
  "language_info": {
   "codemirror_mode": {
    "name": "ipython",
    "version": 3
   },
   "file_extension": ".py",
   "mimetype": "text/x-python",
   "name": "python",
   "nbconvert_exporter": "python",
   "pygments_lexer": "ipython3",
   "version": "3.9.12"
  }
 },
 "nbformat": 4,
 "nbformat_minor": 5
}
